{
 "cells": [
  {
   "cell_type": "code",
   "execution_count": 1,
   "metadata": {
    "collapsed": true
   },
   "outputs": [],
   "source": [
    "import pandas as pd\n",
    "import numpy as np\n",
    "import matplotlib.pyplot as plt\n",
    "from scipy.stats import skew\n",
    "from sklearn.linear_model import LassoCV\n",
    "from sklearn.cross_validation import cross_val_score\n",
    "from sklearn.feature_selection import SelectFromModel\n",
    "from sklearn.ensemble import GradientBoostingRegressor\n",
    "%matplotlib inline"
   ]
  },
  {
   "cell_type": "code",
   "execution_count": 9,
   "metadata": {
    "collapsed": false
   },
   "outputs": [
    {
     "data": {
      "text/plain": [
       "ID                                int64\n",
       "Park_ID                           int64\n",
       "Date                             object\n",
       "Direction_Of_Wind               float64\n",
       "Average_Breeze_Speed            float64\n",
       "Max_Breeze_Speed                float64\n",
       "Min_Breeze_Speed                float64\n",
       "Var1                            float64\n",
       "Average_Atmospheric_Pressure    float64\n",
       "Max_Atmospheric_Pressure        float64\n",
       "Min_Atmospheric_Pressure        float64\n",
       "Min_Ambient_Pollution           float64\n",
       "Max_Ambient_Pollution           float64\n",
       "Average_Moisture_In_Park        float64\n",
       "Max_Moisture_In_Park            float64\n",
       "Min_Moisture_In_Park            float64\n",
       "Location_Type                    object\n",
       "Footfall                          int64\n",
       "dtype: object"
      ]
     },
     "execution_count": 9,
     "metadata": {},
     "output_type": "execute_result"
    }
   ],
   "source": [
    "train = pd.read_csv('train.csv')\n",
    "test = pd.read_csv('test.csv')\n",
    "#train['Average_Ambient_Pollution'] = (train.Min_Ambient_Pollution + train.Max_Ambient_Pollution) / 2 \n",
    "#test['Average_Ambient_Pollution'] = (test.Min_Ambient_Pollution + test.Max_Ambient_Pollution) / 2 \n",
    "\n",
    "train['Location_Type'] = train['Location_Type'].astype(str)\n",
    "test['Location_Type'] = test['Location_Type'].astype(str)\n",
    "'''\n",
    "test = test.drop(['Max_Breeze_Speed', 'Min_Breeze_Speed', 'Max_Atmospheric_Pressure',\n",
    "           'Min_Atmospheric_Pressure', 'Min_Ambient_Pollution',\n",
    "           'Max_Ambient_Pollution', 'Max_Moisture_In_Park',\n",
    "           'Min_Moisture_In_Park'], axis=1)\n",
    "train = train.drop(['Max_Breeze_Speed', 'Min_Breeze_Speed', 'Max_Atmospheric_Pressure',\n",
    "            'Min_Atmospheric_Pressure', 'Min_Ambient_Pollution',\n",
    "            'Max_Ambient_Pollution', 'Max_Moisture_In_Park',\n",
    "            'Min_Moisture_In_Park'], axis=1)\n",
    "'''\n",
    "all_data = pd.concat((train.loc[:, 'Park_ID':'Location_Type'],\n",
    "                      test.loc[:, 'Park_ID':'Location_Type']))\n",
    "train.dtypes"
   ]
  },
  {
   "cell_type": "code",
   "execution_count": 10,
   "metadata": {
    "collapsed": false
   },
   "outputs": [
    {
     "data": {
      "text/plain": [
       "Park_ID                           int64\n",
       "Direction_Of_Wind               float64\n",
       "Average_Breeze_Speed            float64\n",
       "Max_Breeze_Speed                float64\n",
       "Min_Breeze_Speed                float64\n",
       "Var1                            float64\n",
       "Average_Atmospheric_Pressure    float64\n",
       "Max_Atmospheric_Pressure        float64\n",
       "Min_Atmospheric_Pressure        float64\n",
       "Min_Ambient_Pollution           float64\n",
       "Max_Ambient_Pollution           float64\n",
       "Average_Moisture_In_Park        float64\n",
       "Max_Moisture_In_Park            float64\n",
       "Min_Moisture_In_Park            float64\n",
       "Day                               int64\n",
       "Month                             int64\n",
       "Average_Ambient_Pollution       float64\n",
       "Location_Type_1                 float64\n",
       "Location_Type_2                 float64\n",
       "Location_Type_3                 float64\n",
       "Location_Type_4                 float64\n",
       "dtype: object"
      ]
     },
     "execution_count": 10,
     "metadata": {},
     "output_type": "execute_result"
    }
   ],
   "source": [
    "all_data['Day'] = all_data.Date.str.split('-').str[0].astype(int)\n",
    "all_data['Month'] = all_data.Date.str.split('-').str[1].astype(int)\n",
    "all_data = all_data.drop('Date', axis = 1)\n",
    "\n",
    "train['Day'] = train.Date.str.split('-').str[0].astype(int)\n",
    "train['Month'] = train.Date.str.split('-').str[1].astype(int)\n",
    "train = train.drop('Date', axis = 1)\n",
    "\n",
    "test['Day'] = test.Date.str.split('-').str[0].astype(int)\n",
    "test['Month'] = test.Date.str.split('-').str[1].astype(int)\n",
    "test = test.drop('Date', axis = 1)\n",
    "\n",
    "train['Average_Ambient_Pollution'] = (train.Min_Ambient_Pollution + train.Max_Ambient_Pollution) / 2 \n",
    "test['Average_Ambient_Pollution'] = (test.Min_Ambient_Pollution + test.Max_Ambient_Pollution) / 2\n",
    "all_data['Average_Ambient_Pollution'] = (all_data.Min_Ambient_Pollution + all_data.Max_Ambient_Pollution) / 2\n",
    "\n",
    "all_data = pd.get_dummies(all_data)\n",
    "all_data.dtypes"
   ]
  },
  {
   "cell_type": "code",
   "execution_count": 11,
   "metadata": {
    "collapsed": false
   },
   "outputs": [
    {
     "data": {
      "text/plain": [
       "ID                                int64\n",
       "Park_ID                           int64\n",
       "Direction_Of_Wind               float64\n",
       "Average_Breeze_Speed            float64\n",
       "Max_Breeze_Speed                float64\n",
       "Min_Breeze_Speed                float64\n",
       "Var1                            float64\n",
       "Average_Atmospheric_Pressure    float64\n",
       "Max_Atmospheric_Pressure        float64\n",
       "Min_Atmospheric_Pressure        float64\n",
       "Min_Ambient_Pollution           float64\n",
       "Max_Ambient_Pollution           float64\n",
       "Average_Moisture_In_Park        float64\n",
       "Max_Moisture_In_Park            float64\n",
       "Min_Moisture_In_Park            float64\n",
       "Location_Type                    object\n",
       "Footfall                          int64\n",
       "Day                               int64\n",
       "Month                             int64\n",
       "Average_Ambient_Pollution       float64\n",
       "dtype: object"
      ]
     },
     "execution_count": 11,
     "metadata": {},
     "output_type": "execute_result"
    }
   ],
   "source": [
    "train.dtypes"
   ]
  },
  {
   "cell_type": "code",
   "execution_count": 17,
   "metadata": {
    "collapsed": false
   },
   "outputs": [],
   "source": [
    "# For right skewed data\n",
    "skewed_feats = train.apply(lambda x: skew(x.dropna()))\n",
    "skewed_feats = skewed_feats[skewed_feats > 0.8]\n",
    "skewed_feats = skewed_feats.index\n",
    "\n",
    "all_data[skewed_feats] = np.log1p(all_data[skewed_feats])\n",
    "\n",
    "# For left skewed data\n",
    "skewed_feats_left = train.apply(lambda x: skew(x.dropna()))\n",
    "skewed_feats_left = skewed_feats_left[skewed_feats_left < -0.8]\n",
    "skewed_feats_left = skewed_feats_left.index\n",
    "\n",
    "all_data[skewed_feats_left] = np.power(all_data[skewed_feats_left], 3)"
   ]
  },
  {
   "cell_type": "code",
   "execution_count": 18,
   "metadata": {
    "collapsed": false
   },
   "outputs": [],
   "source": [
    "all_data = all_data.fillna(all_data.median())\n",
    "X_train = all_data[:train.shape[0]]\n",
    "X_test = all_data[train.shape[0]:]\n",
    "y = train.Footfall"
   ]
  },
  {
   "cell_type": "code",
   "execution_count": 19,
   "metadata": {
    "collapsed": false
   },
   "outputs": [],
   "source": [
    "def rmse_cv(model):\n",
    "    rmse = -cross_val_score(model, X_train, y,\n",
    "                   scoring=\"mean_squared_error\", cv=5)\n",
    "    return rmse"
   ]
  },
  {
   "cell_type": "code",
   "execution_count": 20,
   "metadata": {
    "collapsed": false
   },
   "outputs": [
    {
     "name": "stdout",
     "output_type": "stream",
     "text": [
      "ID : 0.0137381300174\n",
      "Park_ID : -0.0230211623087\n",
      "Direction_Of_Wind : -0.3388085786\n",
      "Average_Breeze_Speed : 1.29359512201\n",
      "Max_Breeze_Speed : 1.10897260967\n",
      "Min_Breeze_Speed : 1.55376410602\n",
      "Var1 : 4.33791017285\n",
      "Average_Atmospheric_Pressure : -0.28550255553\n",
      "Max_Atmospheric_Pressure : -0.209862019156\n",
      "Min_Atmospheric_Pressure : -0.344110614821\n",
      "Min_Ambient_Pollution : -0.29505495956\n",
      "Max_Ambient_Pollution : -1.8838785083\n",
      "Average_Moisture_In_Park : -0.801725261022\n",
      "Max_Moisture_In_Park : -2.07353862117\n",
      "Min_Moisture_In_Park : -0.34311366811\n",
      "Location_Type : -0.165165356354\n",
      "Footfall : -0.195627064184\n",
      "Average_Ambient_Pollution : -0.491254898775\n",
      "Day : 0.00673207126918\n",
      "Month : -0.0552472945254\n"
     ]
    }
   ],
   "source": [
    "for c in train.columns:\n",
    "    print c,':',skew(train[c].dropna())"
   ]
  },
  {
   "cell_type": "code",
   "execution_count": 10,
   "metadata": {
    "collapsed": false
   },
   "outputs": [
    {
     "name": "stdout",
     "output_type": "stream",
     "text": [
      "ID : -4.96536043578e-13\n",
      "Park_ID : -0.0699450692215\n",
      "Direction_Of_Wind : -0.340069467298\n",
      "Average_Breeze_Speed : 1.30555368743\n",
      "Var1 : 4.49257311168\n",
      "Average_Atmospheric_Pressure : -0.266585199591\n",
      "Average_Moisture_In_Park : -0.684522190251\n",
      "Location_Type : -0.137264275665\n",
      "Average_Ambient_Pollution : -0.57130415354\n",
      "Day : 0.00676002320958\n",
      "Month : -0.00879766091707\n"
     ]
    }
   ],
   "source": [
    "for c in test.columns:\n",
    "    print c,':',skew(test[c].dropna())"
   ]
  },
  {
   "cell_type": "code",
   "execution_count": null,
   "metadata": {
    "collapsed": false
   },
   "outputs": [],
   "source": [
    "train.Average_Breeze_Speed.plot(kind='hist')"
   ]
  },
  {
   "cell_type": "code",
   "execution_count": null,
   "metadata": {
    "collapsed": false
   },
   "outputs": [],
   "source": [
    "test.Average_Breeze_Speed.plot(kind='hist')"
   ]
  },
  {
   "cell_type": "code",
   "execution_count": 23,
   "metadata": {
    "collapsed": false
   },
   "outputs": [
    {
     "name": "stdout",
     "output_type": "stream",
     "text": [
      "i: 3 , 1282.41198291 , [ 1117.20213743  1212.53340793  1458.74279175  1543.82183257  1079.75974488]\n",
      "i: 4 , 646.482139398 , [ 609.06783962  599.74131921  587.14688376  661.54693084  774.90772356]\n",
      "i: 5 , 477.561304037 , [ 463.72725082  451.05081832  462.80138046  503.89394816  506.33312243]\n",
      "i: 6 , 399.559333999 , [ 392.76856483  338.278246    391.81244936  489.06132621  385.8760836 ]\n",
      "i: 7 , 316.465579403 , [ 314.67008326  254.82004564  308.54904984  344.40297729  359.88574098]\n",
      "i: 8 , 251.785936148 , [ 295.62312483  233.44481621  218.99041842  264.66140044  246.20992084]\n",
      "i: 9 , 272.999126399 , [ 272.88411357  253.9685773   287.57526901  264.57450534  285.99316677]\n",
      "i: 10 , 242.102802197 , [ 239.30334754  220.87127002  230.44986204  248.31117149  271.5783599 ]\n",
      "i: 11 , 240.216558673 , [ 238.12418849  227.71839615  222.74495896  256.39788789  256.09736187]\n",
      "i: 12 , 231.065256032 , [ 224.53095772  219.10987892  202.59229891  250.87153006  258.22161455]\n",
      "i: 13 , 233.943531909 , [ 265.15750211  209.22523801  190.63212004  271.69580738  233.006992  ]\n",
      "i: 14 , 231.521864813 , [ 229.75674439  209.65947799  197.96135477  261.48740655  258.74434037]\n",
      "i: 15 , 230.810344295 , [ 275.42341943  201.27314102  222.26070662  226.34115934  228.75329507]\n"
     ]
    }
   ],
   "source": [
    "i = 3\n",
    "while i <= 15:\n",
    "    rmse = rmse_cv(GradientBoostingRegressor(min_samples_split=800, min_samples_leaf=50,max_depth=i, max_features='sqrt',subsample=0.8, random_state=10))\n",
    "    print \"i:\", i, \",\", rmse.mean(),',',rmse\n",
    "    i+=1"
   ]
  },
  {
   "cell_type": "code",
   "execution_count": 22,
   "metadata": {
    "collapsed": false
   },
   "outputs": [
    {
     "name": "stdout",
     "output_type": "stream",
     "text": [
      "i: 30 , 260.984555364 , [ 298.02671723  242.54622734  253.35936049  264.11331684  246.87715491]\n",
      "i: 40 , 262.778375682 , [ 266.2869417   257.05533098  274.98075369  254.19845658  261.37039546]\n",
      "i: 50 , 272.999126399 , [ 272.88411357  253.9685773   287.57526901  264.57450534  285.99316677]\n",
      "i: 60 , 291.494861125 , [ 288.47810544  278.42831342  283.15909534  274.15153294  333.25725849]\n",
      "i: 70 , 269.720934335 , [ 271.7966691   276.19261365  246.30382841  268.65007133  285.66148918]\n"
     ]
    }
   ],
   "source": [
    "i = 30\n",
    "while i <= 70:\n",
    "    rmse = rmse_cv(GradientBoostingRegressor(min_samples_split=800, min_samples_leaf=i,max_depth=9, max_features='sqrt',subsample=0.8, random_state=10))\n",
    "    print \"i:\", i, \",\", rmse.mean(),',',rmse\n",
    "    i+=10"
   ]
  },
  {
   "cell_type": "code",
   "execution_count": 25,
   "metadata": {
    "collapsed": false
   },
   "outputs": [
    {
     "name": "stdout",
     "output_type": "stream",
     "text": [
      "[ 257.17888743  243.24033967  197.12155439  281.22734766  249.85395977]\n"
     ]
    }
   ],
   "source": [
    "print rmse_cv(GradientBoostingRegressor(min_samples_split=800, min_samples_leaf=30,max_depth=12, max_features='sqrt',subsample=0.8, random_state=10))"
   ]
  },
  {
   "cell_type": "code",
   "execution_count": null,
   "metadata": {
    "collapsed": true
   },
   "outputs": [],
   "source": []
  }
 ],
 "metadata": {
  "anaconda-cloud": {},
  "kernelspec": {
   "display_name": "Python [Root]",
   "language": "python",
   "name": "Python [Root]"
  },
  "language_info": {
   "codemirror_mode": {
    "name": "ipython",
    "version": 2
   },
   "file_extension": ".py",
   "mimetype": "text/x-python",
   "name": "python",
   "nbconvert_exporter": "python",
   "pygments_lexer": "ipython2",
   "version": "2.7.12"
  }
 },
 "nbformat": 4,
 "nbformat_minor": 0
}
